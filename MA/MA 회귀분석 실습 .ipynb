{
 "cells": [
  {
   "cell_type": "code",
   "execution_count": 53,
   "id": "04b33edc",
   "metadata": {},
   "outputs": [],
   "source": [
    "import pandas as pd\n",
    "\n",
    "import seaborn as sns\n",
    "import matplotlib.pyplot as plt\n",
    "import matplotlib.font_manager as fm\n",
    "\n",
    "import numpy as np\n",
    "import statsmodels.api as sm\n",
    "\n",
    "plt.rc('font', family='Malgun Gothic')"
   ]
  },
  {
   "cell_type": "code",
   "execution_count": 22,
   "id": "4e8b2a36",
   "metadata": {},
   "outputs": [],
   "source": [
    "data = pd.read_excel('C:/Users/Innovation/Desktop/김동요/jupyter/Data/MA/챕터별 예제 파일/Chapter 9 Excel Files/Maospalace.xlsx')"
   ]
  },
  {
   "cell_type": "code",
   "execution_count": 23,
   "id": "8c058727",
   "metadata": {},
   "outputs": [
    {
     "data": {
      "text/html": [
       "<div>\n",
       "<style scoped>\n",
       "    .dataframe tbody tr th:only-of-type {\n",
       "        vertical-align: middle;\n",
       "    }\n",
       "\n",
       "    .dataframe tbody tr th {\n",
       "        vertical-align: top;\n",
       "    }\n",
       "\n",
       "    .dataframe thead th {\n",
       "        text-align: right;\n",
       "    }\n",
       "</style>\n",
       "<table border=\"1\" class=\"dataframe\">\n",
       "  <thead>\n",
       "    <tr style=\"text-align: right;\">\n",
       "      <th></th>\n",
       "      <th>예상 식사 판매량</th>\n",
       "      <th>오차</th>\n",
       "      <th>식사 가격</th>\n",
       "      <th>식사 판매량</th>\n",
       "      <th>탄산음료</th>\n",
       "      <th>맥주</th>\n",
       "    </tr>\n",
       "  </thead>\n",
       "  <tbody>\n",
       "    <tr>\n",
       "      <th>0</th>\n",
       "      <td>420.6365</td>\n",
       "      <td>-29.6365</td>\n",
       "      <td>9.3</td>\n",
       "      <td>391</td>\n",
       "      <td>313</td>\n",
       "      <td>90</td>\n",
       "    </tr>\n",
       "    <tr>\n",
       "      <th>1</th>\n",
       "      <td>426.5555</td>\n",
       "      <td>-8.5555</td>\n",
       "      <td>9.1</td>\n",
       "      <td>418</td>\n",
       "      <td>326</td>\n",
       "      <td>100</td>\n",
       "    </tr>\n",
       "    <tr>\n",
       "      <th>2</th>\n",
       "      <td>444.3125</td>\n",
       "      <td>14.6875</td>\n",
       "      <td>8.5</td>\n",
       "      <td>459</td>\n",
       "      <td>358</td>\n",
       "      <td>115</td>\n",
       "    </tr>\n",
       "    <tr>\n",
       "      <th>3</th>\n",
       "      <td>414.7175</td>\n",
       "      <td>9.2825</td>\n",
       "      <td>9.5</td>\n",
       "      <td>424</td>\n",
       "      <td>331</td>\n",
       "      <td>81</td>\n",
       "    </tr>\n",
       "    <tr>\n",
       "      <th>4</th>\n",
       "      <td>438.3935</td>\n",
       "      <td>8.6065</td>\n",
       "      <td>8.7</td>\n",
       "      <td>447</td>\n",
       "      <td>380</td>\n",
       "      <td>89</td>\n",
       "    </tr>\n",
       "  </tbody>\n",
       "</table>\n",
       "</div>"
      ],
      "text/plain": [
       "   예상 식사 판매량       오차  식사 가격  식사 판매량  탄산음료   맥주\n",
       "0   420.6365 -29.6365    9.3     391   313   90\n",
       "1   426.5555  -8.5555    9.1     418   326  100\n",
       "2   444.3125  14.6875    8.5     459   358  115\n",
       "3   414.7175   9.2825    9.5     424   331   81\n",
       "4   438.3935   8.6065    8.7     447   380   89"
      ]
     },
     "execution_count": 23,
     "metadata": {},
     "output_type": "execute_result"
    }
   ],
   "source": [
    "data.head()"
   ]
  },
  {
   "cell_type": "code",
   "execution_count": 26,
   "id": "dfa6910f",
   "metadata": {},
   "outputs": [
    {
     "data": {
      "image/png": "[encoded data removed]",
      "text/plain": [
       "<Figure size 360x360 with 1 Axes>"
      ]
     },
     "metadata": {
      "needs_background": "light"
     },
     "output_type": "display_data"
    }
   ],
   "source": [
    "sns.lmplot(x='식사 가격', y=\"식사 판매량\", data=data)\n",
    "plt.show()"
   ]
  },
  {
   "cell_type": "code",
   "execution_count": 38,
   "id": "d8fcf539",
   "metadata": {},
   "outputs": [
    {
     "data": {
      "text/plain": [
       "LinearRegression()"
      ]
     },
     "execution_count": 38,
     "metadata": {},
     "output_type": "execute_result"
    }
   ],
   "source": [
    "from sklearn.linear_model import LinearRegression\n",
    "from sklearn.metrics import r2_score\n",
    "\n",
    "model = LinearRegression()\n",
    "\n",
    "model.fit(data['식사 가격'].values.reshape(-1, 1), data['식사 판매량'].values.reshape(-1, 1))"
   ]
  },
  {
   "cell_type": "code",
   "execution_count": 39,
   "id": "2de72c51",
   "metadata": {},
   "outputs": [
    {
     "data": {
      "text/plain": [
       "0.5067476213563272"
      ]
     },
     "execution_count": 39,
     "metadata": {},
     "output_type": "execute_result"
    }
   ],
   "source": [
    "r2_score(data['식사 판매량'].values.reshape(-1, 1), model.predict(data['식사 가격'].values.reshape(-1, 1)))"
   ]
  },
  {
   "cell_type": "code",
   "execution_count": 32,
   "id": "cfc56cf1",
   "metadata": {},
   "outputs": [
    {
     "data": {
      "text/plain": [
       "array([[-29.594544]])"
      ]
     },
     "execution_count": 32,
     "metadata": {},
     "output_type": "execute_result"
    }
   ],
   "source": [
    "model.coef_"
   ]
  },
  {
   "cell_type": "code",
   "execution_count": 33,
   "id": "387d1d48",
   "metadata": {},
   "outputs": [
    {
     "data": {
      "text/plain": [
       "array([695.87414329])"
      ]
     },
     "execution_count": 33,
     "metadata": {},
     "output_type": "execute_result"
    }
   ],
   "source": [
    "model.intercept_"
   ]
  },
  {
   "cell_type": "code",
   "execution_count": 37,
   "id": "e78456f1",
   "metadata": {},
   "outputs": [
    {
     "data": {
      "text/plain": [
       "LinearRegression()"
      ]
     },
     "execution_count": 37,
     "metadata": {},
     "output_type": "execute_result"
    }
   ],
   "source": [
    "from sklearn.linear_model import LinearRegression\n",
    "\n",
    "model = LinearRegression()\n",
    "\n",
    "model.fit(data[['식사 가격', '탄산음료', '맥주']], data['식사 판매량'].values.reshape(-1, 1))"
   ]
  },
  {
   "cell_type": "code",
   "execution_count": 35,
   "id": "afec7a80",
   "metadata": {},
   "outputs": [
    {
     "data": {
      "text/plain": [
       "array([[-13.98369182,   0.59623368,   0.21275197]])"
      ]
     },
     "execution_count": 35,
     "metadata": {},
     "output_type": "execute_result"
    }
   ],
   "source": [
    "model.coef_"
   ]
  },
  {
   "cell_type": "code",
   "execution_count": 36,
   "id": "deece60d",
   "metadata": {},
   "outputs": [
    {
     "data": {
      "text/plain": [
       "array([333.47353487])"
      ]
     },
     "execution_count": 36,
     "metadata": {},
     "output_type": "execute_result"
    }
   ],
   "source": [
    "model.intercept_"
   ]
  },
  {
   "cell_type": "code",
   "execution_count": 42,
   "id": "b030bbd7",
   "metadata": {},
   "outputs": [
    {
     "data": {
      "text/plain": [
       "<AxesSubplot:>"
      ]
     },
     "execution_count": 42,
     "metadata": {},
     "output_type": "execute_result"
    },
    {
     "data": {
      "image/png": "[encoded data removed]",
      "text/plain": [
       "<Figure size 432x288 with 2 Axes>"
      ]
     },
     "metadata": {
      "needs_background": "light"
     },
     "output_type": "display_data"
    }
   ],
   "source": [
    "sns.heatmap(data[['식사 판매량', '탄산음료', '맥주']].corr(), annot=True)"
   ]
  },
  {
   "cell_type": "code",
   "execution_count": 51,
   "id": "ffc83a9f",
   "metadata": {},
   "outputs": [],
   "source": [
    "data = pd.read_excel('C:/Users/Innovation/Desktop/김동요/jupyter/Data/MA/챕터별 예제 파일/Chapter 10 Excel Files/Europe.xlsx', sheet_name='data')"
   ]
  },
  {
   "cell_type": "code",
   "execution_count": 52,
   "id": "d20bf2d5",
   "metadata": {},
   "outputs": [
    {
     "data": {
      "text/html": [
       "<div>\n",
       "<style scoped>\n",
       "    .dataframe tbody tr th:only-of-type {\n",
       "        vertical-align: middle;\n",
       "    }\n",
       "\n",
       "    .dataframe tbody tr th {\n",
       "        vertical-align: top;\n",
       "    }\n",
       "\n",
       "    .dataframe thead th {\n",
       "        text-align: right;\n",
       "    }\n",
       "</style>\n",
       "<table border=\"1\" class=\"dataframe\">\n",
       "  <thead>\n",
       "    <tr style=\"text-align: right;\">\n",
       "      <th></th>\n",
       "      <th>국가</th>\n",
       "      <th>인구</th>\n",
       "      <th>\\n컴퓨터 매출액</th>\n",
       "      <th>매출액/인구</th>\n",
       "      <th>인당 GNP</th>\n",
       "      <th>실업률</th>\n",
       "      <th>교육비에 사용하는 GNP 비율</th>\n",
       "    </tr>\n",
       "  </thead>\n",
       "  <tbody>\n",
       "    <tr>\n",
       "      <th>0</th>\n",
       "      <td>Austria</td>\n",
       "      <td>8.4</td>\n",
       "      <td>941.2</td>\n",
       "      <td>112.047619</td>\n",
       "      <td>49600</td>\n",
       "      <td>4.2</td>\n",
       "      <td>5.8</td>\n",
       "    </tr>\n",
       "    <tr>\n",
       "      <th>1</th>\n",
       "      <td>Belgium</td>\n",
       "      <td>10.5</td>\n",
       "      <td>1681.9</td>\n",
       "      <td>160.180952</td>\n",
       "      <td>47090</td>\n",
       "      <td>8.1</td>\n",
       "      <td>5.9</td>\n",
       "    </tr>\n",
       "    <tr>\n",
       "      <th>2</th>\n",
       "      <td>Bulgaria</td>\n",
       "      <td>7.6</td>\n",
       "      <td>154.0</td>\n",
       "      <td>20.263158</td>\n",
       "      <td>6550</td>\n",
       "      <td>13.5</td>\n",
       "      <td>3.5</td>\n",
       "    </tr>\n",
       "    <tr>\n",
       "      <th>3</th>\n",
       "      <td>Czech Rep.</td>\n",
       "      <td>10.2</td>\n",
       "      <td>1028.7</td>\n",
       "      <td>100.852941</td>\n",
       "      <td>20670</td>\n",
       "      <td>6.6</td>\n",
       "      <td>4.4</td>\n",
       "    </tr>\n",
       "    <tr>\n",
       "      <th>4</th>\n",
       "      <td>Denmark</td>\n",
       "      <td>5.5</td>\n",
       "      <td>935.4</td>\n",
       "      <td>170.072727</td>\n",
       "      <td>62120</td>\n",
       "      <td>5.2</td>\n",
       "      <td>8.4</td>\n",
       "    </tr>\n",
       "  </tbody>\n",
       "</table>\n",
       "</div>"
      ],
      "text/plain": [
       "           국가   인구   \\n컴퓨터 매출액      매출액/인구  인당 GNP   실업률  교육비에 사용하는 GNP 비율\n",
       "0     Austria   8.4      941.2  112.047619   49600   4.2               5.8\n",
       "1     Belgium  10.5     1681.9  160.180952   47090   8.1               5.9\n",
       "2    Bulgaria   7.6      154.0   20.263158    6550  13.5               3.5\n",
       "3  Czech Rep.  10.2     1028.7  100.852941   20670   6.6               4.4\n",
       "4     Denmark   5.5      935.4  170.072727   62120   5.2               8.4"
      ]
     },
     "execution_count": 52,
     "metadata": {},
     "output_type": "execute_result"
    }
   ],
   "source": [
    "data.head()"
   ]
  },
  {
   "cell_type": "code",
   "execution_count": 68,
   "id": "89907620",
   "metadata": {},
   "outputs": [],
   "source": [
    "x = data[['인당 GNP', '실업률', '교육비에 사용하는 GNP 비율']]\n",
    "x = sm.add_constant(x, has_constant='add')\n",
    "y = data['매출액/인구']\n",
    "model = sm.OLS(y, x)\n",
    "fit_model = model.fit()"
   ]
  },
  {
   "cell_type": "code",
   "execution_count": 69,
   "id": "e982dfd8",
   "metadata": {},
   "outputs": [
    {
     "data": {
      "text/html": [
       "<table class=\"simpletable\">\n",
       "<caption>OLS Regression Results</caption>\n",
       "<tr>\n",
       "  <th>Dep. Variable:</th>         <td>매출액/인구</td>      <th>  R-squared:         </th> <td>   0.535</td>\n",
       "</tr>\n",
       "<tr>\n",
       "  <th>Model:</th>                   <td>OLS</td>       <th>  Adj. R-squared:    </th> <td>   0.452</td>\n",
       "</tr>\n",
       "<tr>\n",
       "  <th>Method:</th>             <td>Least Squares</td>  <th>  F-statistic:       </th> <td>   6.507</td>\n",
       "</tr>\n",
       "<tr>\n",
       "  <th>Date:</th>             <td>Wed, 18 May 2022</td> <th>  Prob (F-statistic):</th>  <td>0.00394</td>\n",
       "</tr>\n",
       "<tr>\n",
       "  <th>Time:</th>                 <td>20:43:38</td>     <th>  Log-Likelihood:    </th> <td> -113.00</td>\n",
       "</tr>\n",
       "<tr>\n",
       "  <th>No. Observations:</th>      <td>    21</td>      <th>  AIC:               </th> <td>   234.0</td>\n",
       "</tr>\n",
       "<tr>\n",
       "  <th>Df Residuals:</th>          <td>    17</td>      <th>  BIC:               </th> <td>   238.2</td>\n",
       "</tr>\n",
       "<tr>\n",
       "  <th>Df Model:</th>              <td>     3</td>      <th>                     </th>     <td> </td>   \n",
       "</tr>\n",
       "<tr>\n",
       "  <th>Covariance Type:</th>      <td>nonrobust</td>    <th>                     </th>     <td> </td>   \n",
       "</tr>\n",
       "</table>\n",
       "<table class=\"simpletable\">\n",
       "<tr>\n",
       "          <td></td>            <th>coef</th>     <th>std err</th>      <th>t</th>      <th>P>|t|</th>  <th>[0.025</th>    <th>0.975]</th>  \n",
       "</tr>\n",
       "<tr>\n",
       "  <th>const</th>            <td> -114.8352</td> <td>   78.290</td> <td>   -1.467</td> <td> 0.161</td> <td> -280.013</td> <td>   50.342</td>\n",
       "</tr>\n",
       "<tr>\n",
       "  <th>인당 GNP</th>           <td>    0.0023</td> <td>    0.001</td> <td>    2.414</td> <td> 0.027</td> <td>    0.000</td> <td>    0.004</td>\n",
       "</tr>\n",
       "<tr>\n",
       "  <th>실업률</th>              <td>    4.2195</td> <td>    4.840</td> <td>    0.872</td> <td> 0.395</td> <td>   -5.992</td> <td>   14.431</td>\n",
       "</tr>\n",
       "<tr>\n",
       "  <th>교육비에 사용하는 GNP 비율</th> <td>   21.4227</td> <td>   12.736</td> <td>    1.682</td> <td> 0.111</td> <td>   -5.448</td> <td>   48.294</td>\n",
       "</tr>\n",
       "</table>\n",
       "<table class=\"simpletable\">\n",
       "<tr>\n",
       "  <th>Omnibus:</th>       <td>26.473</td> <th>  Durbin-Watson:     </th> <td>   2.685</td>\n",
       "</tr>\n",
       "<tr>\n",
       "  <th>Prob(Omnibus):</th> <td> 0.000</td> <th>  Jarque-Bera (JB):  </th> <td>  46.091</td>\n",
       "</tr>\n",
       "<tr>\n",
       "  <th>Skew:</th>          <td> 2.190</td> <th>  Prob(JB):          </th> <td>9.81e-11</td>\n",
       "</tr>\n",
       "<tr>\n",
       "  <th>Kurtosis:</th>      <td> 8.787</td> <th>  Cond. No.          </th> <td>2.55e+05</td>\n",
       "</tr>\n",
       "</table><br/><br/>Notes:<br/>[1] Standard Errors assume that the covariance matrix of the errors is correctly specified.<br/>[2] The condition number is large, 2.55e+05. This might indicate that there are<br/>strong multicollinearity or other numerical problems."
      ],
      "text/plain": [
       "<class 'statsmodels.iolib.summary.Summary'>\n",
       "\"\"\"\n",
       "                            OLS Regression Results                            \n",
       "==============================================================================\n",
       "Dep. Variable:                 매출액/인구   R-squared:                       0.535\n",
       "Model:                            OLS   Adj. R-squared:                  0.452\n",
       "Method:                 Least Squares   F-statistic:                     6.507\n",
       "Date:                Wed, 18 May 2022   Prob (F-statistic):            0.00394\n",
       "Time:                        20:43:38   Log-Likelihood:                -113.00\n",
       "No. Observations:                  21   AIC:                             234.0\n",
       "Df Residuals:                      17   BIC:                             238.2\n",
       "Df Model:                           3                                         \n",
       "Covariance Type:            nonrobust                                         \n",
       "====================================================================================\n",
       "                       coef    std err          t      P>|t|      [0.025      0.975]\n",
       "------------------------------------------------------------------------------------\n",
       "const             -114.8352     78.290     -1.467      0.161    -280.013      50.342\n",
       "인당 GNP               0.0023      0.001      2.414      0.027       0.000       0.004\n",
       "실업률                  4.2195      4.840      0.872      0.395      -5.992      14.431\n",
       "교육비에 사용하는 GNP 비율    21.4227     12.736      1.682      0.111      -5.448      48.294\n",
       "==============================================================================\n",
       "Omnibus:                       26.473   Durbin-Watson:                   2.685\n",
       "Prob(Omnibus):                  0.000   Jarque-Bera (JB):               46.091\n",
       "Skew:                           2.190   Prob(JB):                     9.81e-11\n",
       "Kurtosis:                       8.787   Cond. No.                     2.55e+05\n",
       "==============================================================================\n",
       "\n",
       "Notes:\n",
       "[1] Standard Errors assume that the covariance matrix of the errors is correctly specified.\n",
       "[2] The condition number is large, 2.55e+05. This might indicate that there are\n",
       "strong multicollinearity or other numerical problems.\n",
       "\"\"\""
      ]
     },
     "execution_count": 69,
     "metadata": {},
     "output_type": "execute_result"
    }
   ],
   "source": [
    "fit_model.summary()"
   ]
  },
  {
   "cell_type": "code",
   "execution_count": 78,
   "id": "b10cce9c",
   "metadata": {},
   "outputs": [],
   "source": [
    "x = data[['인당 GNP','교육비에 사용하는 GNP 비율']]\n",
    "x = sm.add_constant(x, has_constant='add')\n",
    "y = data['매출액/인구']\n",
    "model = sm.OLS(y, x)\n",
    "fit_model = model.fit()"
   ]
  },
  {
   "cell_type": "code",
   "execution_count": 79,
   "id": "88cda199",
   "metadata": {
    "scrolled": true
   },
   "outputs": [
    {
     "data": {
      "text/html": [
       "<table class=\"simpletable\">\n",
       "<caption>OLS Regression Results</caption>\n",
       "<tr>\n",
       "  <th>Dep. Variable:</th>         <td>매출액/인구</td>      <th>  R-squared:         </th> <td>   0.514</td>\n",
       "</tr>\n",
       "<tr>\n",
       "  <th>Model:</th>                   <td>OLS</td>       <th>  Adj. R-squared:    </th> <td>   0.460</td>\n",
       "</tr>\n",
       "<tr>\n",
       "  <th>Method:</th>             <td>Least Squares</td>  <th>  F-statistic:       </th> <td>   9.507</td>\n",
       "</tr>\n",
       "<tr>\n",
       "  <th>Date:</th>             <td>Wed, 18 May 2022</td> <th>  Prob (F-statistic):</th>  <td>0.00152</td>\n",
       "</tr>\n",
       "<tr>\n",
       "  <th>Time:</th>                 <td>20:51:37</td>     <th>  Log-Likelihood:    </th> <td> -113.46</td>\n",
       "</tr>\n",
       "<tr>\n",
       "  <th>No. Observations:</th>      <td>    21</td>      <th>  AIC:               </th> <td>   232.9</td>\n",
       "</tr>\n",
       "<tr>\n",
       "  <th>Df Residuals:</th>          <td>    18</td>      <th>  BIC:               </th> <td>   236.1</td>\n",
       "</tr>\n",
       "<tr>\n",
       "  <th>Df Model:</th>              <td>     2</td>      <th>                     </th>     <td> </td>   \n",
       "</tr>\n",
       "<tr>\n",
       "  <th>Covariance Type:</th>      <td>nonrobust</td>    <th>                     </th>     <td> </td>   \n",
       "</tr>\n",
       "</table>\n",
       "<table class=\"simpletable\">\n",
       "<tr>\n",
       "          <td></td>            <th>coef</th>     <th>std err</th>      <th>t</th>      <th>P>|t|</th>  <th>[0.025</th>    <th>0.975]</th>  \n",
       "</tr>\n",
       "<tr>\n",
       "  <th>const</th>            <td>  -66.4575</td> <td>   54.857</td> <td>   -1.211</td> <td> 0.241</td> <td> -181.709</td> <td>   48.794</td>\n",
       "</tr>\n",
       "<tr>\n",
       "  <th>인당 GNP</th>           <td>    0.0020</td> <td>    0.001</td> <td>    2.270</td> <td> 0.036</td> <td>    0.000</td> <td>    0.004</td>\n",
       "</tr>\n",
       "<tr>\n",
       "  <th>교육비에 사용하는 GNP 비율</th> <td>   21.1314</td> <td>   12.647</td> <td>    1.671</td> <td> 0.112</td> <td>   -5.438</td> <td>   47.701</td>\n",
       "</tr>\n",
       "</table>\n",
       "<table class=\"simpletable\">\n",
       "<tr>\n",
       "  <th>Omnibus:</th>       <td>31.254</td> <th>  Durbin-Watson:     </th> <td>   2.670</td>\n",
       "</tr>\n",
       "<tr>\n",
       "  <th>Prob(Omnibus):</th> <td> 0.000</td> <th>  Jarque-Bera (JB):  </th> <td>  68.195</td>\n",
       "</tr>\n",
       "<tr>\n",
       "  <th>Skew:</th>          <td> 2.490</td> <th>  Prob(JB):          </th> <td>1.55e-15</td>\n",
       "</tr>\n",
       "<tr>\n",
       "  <th>Kurtosis:</th>      <td>10.289</td> <th>  Cond. No.          </th> <td>1.82e+05</td>\n",
       "</tr>\n",
       "</table><br/><br/>Notes:<br/>[1] Standard Errors assume that the covariance matrix of the errors is correctly specified.<br/>[2] The condition number is large, 1.82e+05. This might indicate that there are<br/>strong multicollinearity or other numerical problems."
      ],
      "text/plain": [
       "<class 'statsmodels.iolib.summary.Summary'>\n",
       "\"\"\"\n",
       "                            OLS Regression Results                            \n",
       "==============================================================================\n",
       "Dep. Variable:                 매출액/인구   R-squared:                       0.514\n",
       "Model:                            OLS   Adj. R-squared:                  0.460\n",
       "Method:                 Least Squares   F-statistic:                     9.507\n",
       "Date:                Wed, 18 May 2022   Prob (F-statistic):            0.00152\n",
       "Time:                        20:51:37   Log-Likelihood:                -113.46\n",
       "No. Observations:                  21   AIC:                             232.9\n",
       "Df Residuals:                      18   BIC:                             236.1\n",
       "Df Model:                           2                                         \n",
       "Covariance Type:            nonrobust                                         \n",
       "====================================================================================\n",
       "                       coef    std err          t      P>|t|      [0.025      0.975]\n",
       "------------------------------------------------------------------------------------\n",
       "const              -66.4575     54.857     -1.211      0.241    -181.709      48.794\n",
       "인당 GNP               0.0020      0.001      2.270      0.036       0.000       0.004\n",
       "교육비에 사용하는 GNP 비율    21.1314     12.647      1.671      0.112      -5.438      47.701\n",
       "==============================================================================\n",
       "Omnibus:                       31.254   Durbin-Watson:                   2.670\n",
       "Prob(Omnibus):                  0.000   Jarque-Bera (JB):               68.195\n",
       "Skew:                           2.490   Prob(JB):                     1.55e-15\n",
       "Kurtosis:                      10.289   Cond. No.                     1.82e+05\n",
       "==============================================================================\n",
       "\n",
       "Notes:\n",
       "[1] Standard Errors assume that the covariance matrix of the errors is correctly specified.\n",
       "[2] The condition number is large, 1.82e+05. This might indicate that there are\n",
       "strong multicollinearity or other numerical problems.\n",
       "\"\"\""
      ]
     },
     "execution_count": 79,
     "metadata": {},
     "output_type": "execute_result"
    }
   ],
   "source": [
    "fit_model.summary()"
   ]
  },
  {
   "cell_type": "code",
   "execution_count": 88,
   "id": "7b1d86ac",
   "metadata": {},
   "outputs": [
    {
     "data": {
      "text/plain": [
       "244.85649999999998"
      ]
     },
     "execution_count": 88,
     "metadata": {},
     "output_type": "execute_result"
    }
   ],
   "source": [
    "-66.4575 + (50000 * 0.0020) + (10 * 21.1314)"
   ]
  },
  {
   "cell_type": "code",
   "execution_count": 94,
   "id": "3915b68c",
   "metadata": {},
   "outputs": [
    {
     "name": "stdout",
     "output_type": "stream",
     "text": [
      "[242.58089128]\n"
     ]
    }
   ],
   "source": [
    "# 프랑스의 인구당 연간 판매액 \n",
    "test = [1, 50000, 10]\n",
    "pred = fit_model.predict(test)\n",
    "print(pred)"
   ]
  },
  {
   "cell_type": "code",
   "execution_count": 105,
   "id": "29b34ae9",
   "metadata": {},
   "outputs": [
    {
     "data": {
      "text/plain": [
       "array([[242.58089128]])"
      ]
     },
     "execution_count": 105,
     "metadata": {},
     "output_type": "execute_result"
    }
   ],
   "source": [
    "x = data[['인당 GNP','교육비에 사용하는 GNP 비율']]\n",
    "model = LinearRegression()\n",
    "model.fit(x.values, y.values.reshape(-1, 1))\n",
    "model.predict([[50000, 10]])"
   ]
  },
  {
   "cell_type": "code",
   "execution_count": null,
   "id": "49ab9c57",
   "metadata": {},
   "outputs": [],
   "source": [
    "# Hal 컴퓨터의 적절한 인구당 연간 판매 목표량 \n",
    "# 프랑스의 인구당 연간 판매액 \n",
    "test = [-114.8352, , 10]\n",
    "pred = fit_model.predict(test)\n",
    "print(pred)"
   ]
  },
  {
   "cell_type": "code",
   "execution_count": null,
   "id": "725037ef",
   "metadata": {},
   "outputs": [],
   "source": []
  }
 ],
 "metadata": {
  "kernelspec": {
   "display_name": "Python 3 (ipykernel)",
   "language": "python",
   "name": "python3"
  },
  "language_info": {
   "codemirror_mode": {
    "name": "ipython",
    "version": 3
   },
   "file_extension": ".py",
   "mimetype": "text/x-python",
   "name": "python",
   "nbconvert_exporter": "python",
   "pygments_lexer": "ipython3",
   "version": "3.9.7"
  }
 },
 "nbformat": 4,
 "nbformat_minor": 5
}
